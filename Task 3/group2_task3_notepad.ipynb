{
 "cells": [
  {
   "cell_type": "code",
   "execution_count": null,
   "metadata": {},
   "outputs": [],
   "source": []
  },
  {
   "cell_type": "markdown",
   "metadata": {},
   "source": [
    "# Task 3: Modeling Optimization"
   ]
  },
  {
   "cell_type": "markdown",
   "metadata": {},
   "source": [
    "**Course:** Introduction to Data Science\n",
    "**Lecturer:** Prof. Dr. Hendrik Meth\n",
    "\n",
    "**Group 2:**\n",
    "- Linus Breitenberger\n",
    "- Tristan Ruhm\n",
    "- Prarichut Poachanuan\n",
    "- Anushka Irphale\n",
    "- Patryk Gadziosmki"
   ]
  },
  {
   "cell_type": "markdown",
   "metadata": {},
   "source": [
    "<div style=\"width:100%;height:30px;background-color:#E31134\"></div>"
   ]
  },
  {
   "cell_type": "markdown",
   "metadata": {},
   "source": [
    "## 0. Importing Requirements"
   ]
  },
  {
   "cell_type": "code",
   "execution_count": null,
   "metadata": {},
   "outputs": [],
   "source": [
    "# importing libraries\n",
    "import pandas as pd\n",
    "from sklearn import linear_model\n",
    "import numpy as np\n",
    "from sklearn.impute import SimpleImputer\n",
    "from sklearn.metrics import mean_absolute_error\n",
    "import seaborn as sns\n",
    "import matplotlib.pyplot as plt\n",
    "from sklearn.preprocessing import PowerTransformer"
   ]
  },
  {
   "cell_type": "markdown",
   "metadata": {},
   "source": [
    "# 1. Reworking of Train- and Testdata\n",
    "After the feedback we got from Task 2, we did a little bit of reworking to optimize our linear regression Model, before we \n",
    "tackle Task 3.\n",
    "\n",
    "Some of our Optimization includes:\n",
    "\n",
    "    -Removed temp and kept atemp during feature selection, as using both would create issues with multicorrelation.\n",
    "    -remove the 'casual' and 'registered' labels, because we only use 'cnt'\n",
    "    -checked out how 'mnth' is distributed ? (Anectode from the lecture)\n",
    "    -kept 'instant', because its relevant apparently\n",
    "    \n",
    "Since we changed our dataset, we also tested our Models again to compare if the Model improved.\n",
    "\n",
    "<div style=\"width:100%;height:30px;background-color:#E31134\"></div>"
   ]
  },
  {
   "cell_type": "markdown",
   "metadata": {},
   "source": [
    "<div style=\"width:100%;height:30px;background-color:#E31134\"></div>"
   ]
  },
  {
   "cell_type": "markdown",
   "metadata": {},
   "source": [
    "# 6. Summary of Task 3"
   ]
  },
  {
   "cell_type": "markdown",
   "metadata": {},
   "source": [
    "## 1. Reworking and Optimization of train and test data"
   ]
  },
  {
   "cell_type": "markdown",
   "metadata": {},
   "source": [
    "Since our final model for Task 2 didn't seem to be optimal and some details had been overseen, we decided to do a rework of our train and test datas and optimize it.\n",
    "\n",
    "Because of the high correlation with 'cnt', we decided to keep 'instant' in the data set. The features 'temp' and 'atemp' had a multicorrelation, so we kept 'atemp', which had a minimal better correlation, in and dropped 'temp'. We also removed the 'casual' and 'registered' labels, since we only use 'cnt'.\n",
    "\n",
    "In the end we tested our models with the new test data and had following result:\n",
    "- `MAE`: 923.977 \n",
    "- `R^2 value of the model`:  0.36870153666640637\n",
    "\n",
    "The Mean Absolute Error (MAE) has an improvement. On the opposite, the Coefficient of Determination (R^2) has a deterioration. We exported the reworked train- and testdata to csv and used for the `base linear regression` and the `model optimization`.\n"
   ]
  },
  {
   "cell_type": "markdown",
   "metadata": {},
   "source": [
    "## 2. Baseline linear regression"
   ]
  },
  {
   "cell_type": "markdown",
   "metadata": {},
   "source": [
    "### 2.1 Split"
   ]
  },
  {
   "cell_type": "markdown",
   "metadata": {},
   "source": [
    "In our first step, we refined the feature and label for our model buidling with splitting the training data into `train_features` and `train_labels` and the testdata into `test_features` and `test_label`."
   ]
  },
  {
   "cell_type": "markdown",
   "metadata": {},
   "source": [
    "### 2.2 Linear Regression"
   ]
  },
  {
   "cell_type": "markdown",
   "metadata": {},
   "source": [
    "For our initial model building, we employed linear regression to predict the bike rental count ('cnt') using labeled training data.\n",
    "\n",
    "### Model Selection and Training:\n",
    "We instantiated a linear regression model using the `linear_model.LinearRegression()` function. The model was trained on the training features (`train_features`) and labels (`train_labels`) using the `fit` method.\n",
    "\n",
    "### Model Coefficients:\n",
    "- The coefficients of the linear regression model, representing the weights assigned to each feature, are printed using `print(baseline_model.coef_)`. These coefficients provide insights into the contribution of each feature to the prediction of the target variable\n",
    "\n",
    "Like in the last task, this linear regression model serves as our baseline model, providing a starting point for evaluation and potential refinement in subsequent stages of model development."
   ]
  },
  {
   "cell_type": "markdown",
   "metadata": {},
   "source": [
    "## 2. Model Optimization"
   ]
  },
  {
   "cell_type": "markdown",
   "metadata": {},
   "source": [
    "### 2.2 Model Building"
   ]
  },
  {
   "cell_type": "markdown",
   "metadata": {},
   "source": [
    "For a better model optimization, we created further model versions besides of the linear regression. Beside of linear regression, scikit-learn has various other algorithms. With testing these algortihms, we can figure out, which model has the best result. In the following, we present the results of each algorithm.\n",
    "\n",
    "For each model, we used the method `forward selection`, to get the best result."
   ]
  },
  {
   "cell_type": "markdown",
   "metadata": {},
   "source": [
    "#### 2.2.1 Polynomial Regression"
   ]
  },
  {
   "cell_type": "markdown",
   "metadata": {},
   "source": [
    "\n",
    "For the polynomial regression, we used the function `makepipeline(PolynomialFeatures())`. It gives out multiple results, which  will run through `linear_model.LinearRegression()`, to get one value as a prediction.\n",
    "\n",
    "We made some finetuning with the parameter to get the best possible result. With the parameters `degree=2`, `interaction_only='false'`, `include_bias=True`, `include_bias=True` and `order=C`, it got the best outcome.\n"
   ]
  },
  {
   "cell_type": "markdown",
   "metadata": {},
   "source": [
    "#### 2.2.2 K-Nearest-neighbours Regression"
   ]
  },
  {
   "cell_type": "markdown",
   "metadata": {},
   "source": [
    "With the K-nearest-neighbours regression, we compared each value of 'cnt' with his 10 nearest neighbour-values. For that, we used the function `KNeighborsRegressor()` to predict a numeric label, which is the average of all 10 values. A special aspect is that no linear relationships are required to build a model.\n",
    "\n",
    "We used the parameters `weights=uniform`, `algorithm=auto`, `leaf_size= default`, `p = 10`, `metric = default` and `n_jobs = None`. for the amount of the nearest value neighbours we used the parameter `n_neighbour=3`, since a comparison with 3 values had the best result in R²."
   ]
  },
  {
   "cell_type": "markdown",
   "metadata": {},
   "source": [
    "#### 2.2.3 Regression Tree / Decision Tree Regression"
   ]
  },
  {
   "cell_type": "markdown",
   "metadata": {},
   "source": [
    "A regression tree makes it possible to handle nominal features and non-linear relationships. We used the `DecisionTreeRegressor()`-function.\n",
    "\n",
    "For finetuning, we used the parameters `criterion = absolute_error`, `splitter = best`, `max_depth = 5`, `min_sample_split = default`, `min_sample_leaf = 5`, `min_wieght_fraction_leaf = 0.0` and `max_features = None`. For max_features, we chose the value None, since we want, that all features should be taken in a split.  \n"
   ]
  },
  {
   "cell_type": "markdown",
   "metadata": {},
   "source": [
    "#### 2.2.4 Support Vector Regression"
   ]
  },
  {
   "cell_type": "markdown",
   "metadata": {},
   "source": [
    "The Support Vector Regression defines a hyperplane, which can be linear, polynomial or gaussian.\n",
    "\n",
    "First, we used the function `SVR()` with a polynomial kernel, since the evaluation of polynomial regression had a good result. The result of it was not so good, so we concluded to take the linear kernel, which had a better result.\n",
    "\n",
    "We used the parameters\n",
    "- kernel = linear; \n",
    "- c =100 ; regularization_parameter \n",
    "- epsilon ; \n",
    "- max_iter = -1; no limit for iteration"
   ]
  },
  {
   "cell_type": "markdown",
   "metadata": {},
   "source": [
    "### 2.3 Evaluation"
   ]
  },
  {
   "cell_type": "markdown",
   "metadata": {},
   "source": [
    "### Polynomial Regression\n",
    "\n",
    "<style>\n",
    "\n",
    "    .heatMap tr:nth-child(11) { background: green; }\n",
    "</style>\n",
    "\n",
    "<div class=\"heatMap\">\n",
    "\n",
    "| Iteration | Selected Features             | Performance (R²) | Decision          |\n",
    "|------------|--------------------------------|------------------|--------------------|\n",
    "| 1          | int                                                         | 0.249            | -                 |\n",
    "| 2          | int, atemp                                                  | 0.381            | keep           |\n",
    "| 3          | int, atemp, weathersit                                      | 0.409            | keep     |\n",
    "| 4          | int, atemp, weathersit, yr                                  | 0.428            | keep  |\n",
    "| 5          | int, atemp, weathersit, yr, season                          | 0.436553            | keep  |\n",
    "| 6          | int, atemp, weathersit, yr, season, price reduction         | 0.242           | don't keep|\n",
    "| 7          | int, atemp, weathersit, yr, season, leaflets                | 0.312            | don't keep   |\n",
    "| 8          | int, atemp, weathersit, yr, season, windspeed               | 0.411            | don't keep         |\n",
    "| 9          | int, atemp, weathersit, yr, season, workingday              | 0.377            | don't keep         |\n",
    "| 10          | int, atemp, weathersit, yr, season, weekday                 | 0.436904            | keep         |\n",
    "| 11          | int, atemp, weathersit, yr, season, weekday, holiday        | 0.437776            | keep         |\n",
    "| 12         | int, atemp, weathersit, yr, season, weekday, holiday, mnth  | 0.4194            | don't keep         |\n",
    "\n",
    "</div>\n"
   ]
  },
  {
   "cell_type": "markdown",
   "metadata": {},
   "source": [
    "### K-Nearest-neighbours Regression\n",
    "<style>\n",
    "\n",
    "    .heatMap tr:nth-child(11) { background: green; }\n",
    "</style>\n",
    "\n",
    "<div class=\"heatMap\">\n",
    "\n",
    "| Iteration | Selected Features             | Performance (R²) | Decision          |\n",
    "|------------|--------------------------------|------------------|--------------------|\n",
    "| 1          | int                                                         | 0.414            | -              |\n",
    "| 2          | int, atemp                                                  | 0.416            | keep           |\n",
    "| 3          | int, atemp, weathersit                                      | 0.416            | don't keep     |\n",
    "| 4          | int, atemp, weekday                                         | 0.412            | don't keep  |\n",
    "| 5          | int, atemp, holiday                                         | 0.416            | don't keep  |\n",
    "| 6          | int, atemp, mnth                                            | 0.416            | don't keep  |\n",
    "| 7          | int, atemp, yr                                              | 0.416            | don't keep   |\n",
    "| 8          | int, atemp, season                                          | 0.423            | keep         |\n",
    "| 9          | int, atemp, season, price reduction                         | 0.423            | don't keep         |\n",
    "| 10          | int, atemp, season, leaflets                               | 0.400            | don't keep         |\n",
    "| 11          | int, atemp, season, windspeed                               | 0.424            | keep         |\n",
    "| 12          | int, atemp, season, windspeed, workingday                   | 0.418           | don't keep         |\n",
    "</div>"
   ]
  },
  {
   "cell_type": "markdown",
   "metadata": {},
   "source": [
    "### Regression Tree / Decision Tree\n",
    "<style>\n",
    "\n",
    "    .heatMap tr:nth-child(11) { background: green; }\n",
    "</style>\n",
    "\n",
    "<div class=\"heatMap\">\n",
    "\n",
    "| Iteration | Selected Features             | Performance (R²) | Decision          |\n",
    "|------------|--------------------------------|------------------|--------------------|\n",
    "| 1          | int                                                         | 0.418            | -                 |\n",
    "| 2          | int, season                                                 | 0.418            | don't keep           |\n",
    "| 3          | int, atemp                                      | 0.431            | keep     |\n",
    "| 4          | int, atemp, windspeed                                  | 0.430            | don't keep  |\n",
    "| 5          | int, atemp, workingday                          | 0.432            | keep  |\n",
    "| 6          | int, atemp, workingday, weathersit         | 0.441           |  keep  |\n",
    "| 7          | int, atemp, workingday, weathersit, workingday         | 0.442         | keep   |\n",
    "| 8          | int, atemp, workingday, weathersit; workingday, holiday             | 0.442      | don't keep         |\n",
    "| 9          | int, atemp, workingday, weathersit; workingday, mnth         | 0.442            | don't keep         |\n",
    "| 10          | int, atemp, workingday, weathersit; workingday,yr            | 0.442            | don't keep         |\n",
    "| 11          | int, atemp, workingday, weathersit, workingday, price reduction    | 0.442      | don't keep         |\n",
    "| 12          | int, atemp, workingday, weathersit, workingday, leaflets  | 0.438           | don't keep         |\n",
    "</div>"
   ]
  },
  {
   "cell_type": "markdown",
   "metadata": {},
   "source": [
    "### Support Vector Regression\n",
    "\n",
    "<style>\n",
    "\n",
    "    .heatMap tr:nth-child(11) { background: green; }\n",
    "</style>\n",
    "\n",
    "<div class=\"heatMap\">\n",
    "\n",
    "| Iteration | Selected Features             | Performance (R²) | Decision          |\n",
    "|------------|--------------------------------|------------------|--------------------|\n",
    "| 1          | int                                                         | 0.272            | -                 |\n",
    "| 2          | int, weathersit                                            | 0.301            | keep           |\n",
    "| 3          | int, weathersit, workingday                                      | 0.296            | don't keep     |\n",
    "| 4          | int, weathersit, weekday                                 | 0.282            | don't keep  |\n",
    "| 5          | int, weathersit, atemp                          | 0.366            | keep  |\n",
    "| 6          | int, weathersit, atemp, season         | 0.370           |  keep  |\n",
    "| 7          | int, weathersit, atemp, season, windspeed         | 0.370         | dont't keep   |\n",
    "| 8          | int, weathersit, atemp, season, holiday             | 0.371      | keep         |\n",
    "| 9          | int, weathersit, atemp, season, holiday, mnth         | 0.389            | keep         |\n",
    "| 10          | int, weathersit, atemp, season, holiday, mnth, yr            | 0.389            | don't keep         |\n",
    "| 11          | int, weathersit, atemp, season, holiday, mnth, price reduction    | 0.390      | keep         |\n",
    "| 12          | int, weathersit, atemp, season, holiday, mnth, price reduction ,leaflets | 0.388  | don't keep       |\n",
    "</div>"
   ]
  },
  {
   "cell_type": "markdown",
   "metadata": {},
   "source": [
    "### 2.4 Interpretation & Conclusion"
   ]
  },
  {
   "cell_type": "markdown",
   "metadata": {},
   "source": [
    "For a better comparison, we took included a model linear regression"
   ]
  },
  {
   "cell_type": "markdown",
   "metadata": {},
   "source": [
    "<style>\n",
    "\n",
    "    .heatMap tr:nth-child(3) { background: green; }\n",
    "</style>\n",
    "\n",
    "<div class=\"heatMap\">\n",
    "\n",
    "| Model | Features             | MAE | R²          |\n",
    "|------------|--------------------------------|------------------|--------------------|\n",
    "| Linear Regression    | Instant, season, yr, weathersit, atemp     | 911.851   | 0.3804996890160657                 |\n",
    "| Polynomial Regression  | Instant, season, yr, mnth, holiday, weekday, weathersit, atemp           | 787.973            | 0.4194389747273023           |\n",
    "| K-Nearest-Neighbours Regression    | Instant, season, atemp, windspeed       | 787.889            | 0.4241129170014134     |\n",
    "| Regression Tree          | Instant, weekday, workingday, weathersit, atemp | 817.727            | 0.44207064714392696  |\n",
    "| Support Vector Regression          | Instant, season, mnth, holiday, weathersit, atemp, price reduction          | 913.187            | 0.3900211198538589  |\n",
    "</div>"
   ]
  }
 ],
 "metadata": {
  "kernelspec": {
   "display_name": "base",
   "language": "python",
   "name": "python3"
  },
  "language_info": {
   "name": "python",
   "version": "3.11.5"
  }
 },
 "nbformat": 4,
 "nbformat_minor": 2
}
