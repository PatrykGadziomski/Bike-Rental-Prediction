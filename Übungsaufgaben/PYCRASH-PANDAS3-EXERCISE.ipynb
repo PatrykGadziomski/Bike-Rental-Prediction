{
 "cells": [
  {
   "cell_type": "markdown",
   "metadata": {},
   "source": [
    "# Join and Append Data Frames"
   ]
  },
  {
   "cell_type": "markdown",
   "metadata": {},
   "source": [
    "Student-DB Extension: Extend your university database data frame from the previous exercise\n",
    "\n",
    "Start with the following data frame from the last exercise"
   ]
  },
  {
   "cell_type": "code",
   "execution_count": 2,
   "metadata": {},
   "outputs": [
    {
     "name": "stdout",
     "output_type": "stream",
     "text": [
      "The original data frame:\n"
     ]
    },
    {
     "data": {
      "text/html": [
       "<div>\n",
       "<style scoped>\n",
       "    .dataframe tbody tr th:only-of-type {\n",
       "        vertical-align: middle;\n",
       "    }\n",
       "\n",
       "    .dataframe tbody tr th {\n",
       "        vertical-align: top;\n",
       "    }\n",
       "\n",
       "    .dataframe thead th {\n",
       "        text-align: right;\n",
       "    }\n",
       "</style>\n",
       "<table border=\"1\" class=\"dataframe\">\n",
       "  <thead>\n",
       "    <tr style=\"text-align: right;\">\n",
       "      <th></th>\n",
       "      <th>ID</th>\n",
       "      <th>Name</th>\n",
       "      <th>FoS</th>\n",
       "      <th>Semesters</th>\n",
       "    </tr>\n",
       "  </thead>\n",
       "  <tbody>\n",
       "    <tr>\n",
       "      <th>ID1</th>\n",
       "      <td>100112</td>\n",
       "      <td>Jim Collins</td>\n",
       "      <td>Wifo</td>\n",
       "      <td>4</td>\n",
       "    </tr>\n",
       "    <tr>\n",
       "      <th>ID2</th>\n",
       "      <td>120095</td>\n",
       "      <td>Martin Schrader</td>\n",
       "      <td>Wifo</td>\n",
       "      <td>7</td>\n",
       "    </tr>\n",
       "    <tr>\n",
       "      <th>ID3</th>\n",
       "      <td>180331</td>\n",
       "      <td>Achim Zahn</td>\n",
       "      <td>OMM</td>\n",
       "      <td>1</td>\n",
       "    </tr>\n",
       "  </tbody>\n",
       "</table>\n",
       "</div>"
      ],
      "text/plain": [
       "         ID             Name   FoS  Semesters\n",
       "ID1  100112      Jim Collins  Wifo          4\n",
       "ID2  120095  Martin Schrader  Wifo          7\n",
       "ID3  180331       Achim Zahn   OMM          1"
      ]
     },
     "execution_count": 2,
     "metadata": {},
     "output_type": "execute_result"
    }
   ],
   "source": [
    "#PANDAS Data Frames\n",
    "import pandas as pd\n",
    "\n",
    "print(\"The original data frame:\")\n",
    "list_2dim = [[100112,\"Jim Collins\",\"Wifo\",4],[120095,\"Martin Schrader\",\"Wifo\",7],[180331,\"Achim Zahn\",\"OMM\",1]]\n",
    "df = pd.DataFrame(list_2dim,index=['ID1','ID2','ID3'],columns=['ID','Name','FoS','Semesters'])\n",
    "df"
   ]
  },
  {
   "cell_type": "markdown",
   "metadata": {},
   "source": [
    "Create a new data frame storing ID and age of the three students\n",
    "\n",
    "Set index of df to the attribute 'ID': df=df.set_index('ID')\n",
    "\n",
    "Similarily set index of new data frame to the attribute 'ID\n",
    "\n",
    "Join new data frame with the first one and show results!"
   ]
  },
  {
   "cell_type": "code",
   "execution_count": 3,
   "metadata": {},
   "outputs": [
    {
     "data": {
      "text/html": [
       "<div>\n",
       "<style scoped>\n",
       "    .dataframe tbody tr th:only-of-type {\n",
       "        vertical-align: middle;\n",
       "    }\n",
       "\n",
       "    .dataframe tbody tr th {\n",
       "        vertical-align: top;\n",
       "    }\n",
       "\n",
       "    .dataframe thead th {\n",
       "        text-align: right;\n",
       "    }\n",
       "</style>\n",
       "<table border=\"1\" class=\"dataframe\">\n",
       "  <thead>\n",
       "    <tr style=\"text-align: right;\">\n",
       "      <th></th>\n",
       "      <th>ID</th>\n",
       "      <th>Age</th>\n",
       "    </tr>\n",
       "  </thead>\n",
       "  <tbody>\n",
       "    <tr>\n",
       "      <th>ID1</th>\n",
       "      <td>100112</td>\n",
       "      <td>21</td>\n",
       "    </tr>\n",
       "    <tr>\n",
       "      <th>ID2</th>\n",
       "      <td>120095</td>\n",
       "      <td>23</td>\n",
       "    </tr>\n",
       "    <tr>\n",
       "      <th>ID3</th>\n",
       "      <td>180331</td>\n",
       "      <td>19</td>\n",
       "    </tr>\n",
       "  </tbody>\n",
       "</table>\n",
       "</div>"
      ],
      "text/plain": [
       "         ID  Age\n",
       "ID1  100112   21\n",
       "ID2  120095   23\n",
       "ID3  180331   19"
      ]
     },
     "execution_count": 3,
     "metadata": {},
     "output_type": "execute_result"
    }
   ],
   "source": [
    "new_list_2dim = [[df.iloc[0, 0], 21], \n",
    "                 [df.iloc[1, 0], 23], \n",
    "                 [df.iloc[2, 0], 19]]\n",
    "\n",
    "new_df = pd.DataFrame(new_list_2dim, \n",
    "                      index=['ID1','ID2','ID3'], \n",
    "                      columns=['ID', 'Age'])\n",
    "new_df"
   ]
  },
  {
   "cell_type": "code",
   "execution_count": 4,
   "metadata": {},
   "outputs": [],
   "source": [
    "df = df.set_index('ID')\n",
    "new_df = new_df.set_index('ID')"
   ]
  },
  {
   "cell_type": "code",
   "execution_count": 8,
   "metadata": {},
   "outputs": [
    {
     "data": {
      "text/html": [
       "<div>\n",
       "<style scoped>\n",
       "    .dataframe tbody tr th:only-of-type {\n",
       "        vertical-align: middle;\n",
       "    }\n",
       "\n",
       "    .dataframe tbody tr th {\n",
       "        vertical-align: top;\n",
       "    }\n",
       "\n",
       "    .dataframe thead th {\n",
       "        text-align: right;\n",
       "    }\n",
       "</style>\n",
       "<table border=\"1\" class=\"dataframe\">\n",
       "  <thead>\n",
       "    <tr style=\"text-align: right;\">\n",
       "      <th></th>\n",
       "      <th>Name</th>\n",
       "      <th>FoS</th>\n",
       "      <th>Semesters</th>\n",
       "      <th>Age</th>\n",
       "    </tr>\n",
       "    <tr>\n",
       "      <th>ID</th>\n",
       "      <th></th>\n",
       "      <th></th>\n",
       "      <th></th>\n",
       "      <th></th>\n",
       "    </tr>\n",
       "  </thead>\n",
       "  <tbody>\n",
       "    <tr>\n",
       "      <th>100112</th>\n",
       "      <td>Jim Collins</td>\n",
       "      <td>Wifo</td>\n",
       "      <td>4</td>\n",
       "      <td>21</td>\n",
       "    </tr>\n",
       "    <tr>\n",
       "      <th>120095</th>\n",
       "      <td>Martin Schrader</td>\n",
       "      <td>Wifo</td>\n",
       "      <td>7</td>\n",
       "      <td>23</td>\n",
       "    </tr>\n",
       "    <tr>\n",
       "      <th>180331</th>\n",
       "      <td>Achim Zahn</td>\n",
       "      <td>OMM</td>\n",
       "      <td>1</td>\n",
       "      <td>19</td>\n",
       "    </tr>\n",
       "  </tbody>\n",
       "</table>\n",
       "</div>"
      ],
      "text/plain": [
       "                   Name   FoS  Semesters  Age\n",
       "ID                                           \n",
       "100112      Jim Collins  Wifo          4   21\n",
       "120095  Martin Schrader  Wifo          7   23\n",
       "180331       Achim Zahn   OMM          1   19"
      ]
     },
     "execution_count": 8,
     "metadata": {},
     "output_type": "execute_result"
    }
   ],
   "source": [
    "big_df = df.join(new_df, lsuffix='_df', rsuffix='_new_df')\n",
    "big_df"
   ]
  },
  {
   "cell_type": "markdown",
   "metadata": {},
   "source": [
    "Use the following dictionary to store an additional student\n",
    "\n",
    "Transform the dictionary to a series and name your series object. The name is the \"ID\" of the student in this case\n",
    "\n",
    "Append the series object tp your joined data frame"
   ]
  },
  {
   "cell_type": "code",
   "execution_count": 6,
   "metadata": {},
   "outputs": [
    {
     "data": {
      "text/html": [
       "<div>\n",
       "<style scoped>\n",
       "    .dataframe tbody tr th:only-of-type {\n",
       "        vertical-align: middle;\n",
       "    }\n",
       "\n",
       "    .dataframe tbody tr th {\n",
       "        vertical-align: top;\n",
       "    }\n",
       "\n",
       "    .dataframe thead th {\n",
       "        text-align: right;\n",
       "    }\n",
       "</style>\n",
       "<table border=\"1\" class=\"dataframe\">\n",
       "  <thead>\n",
       "    <tr style=\"text-align: right;\">\n",
       "      <th></th>\n",
       "      <th>Name</th>\n",
       "      <th>FoS</th>\n",
       "      <th>Semesters</th>\n",
       "      <th>Age</th>\n",
       "    </tr>\n",
       "    <tr>\n",
       "      <th>ID</th>\n",
       "      <th></th>\n",
       "      <th></th>\n",
       "      <th></th>\n",
       "      <th></th>\n",
       "    </tr>\n",
       "  </thead>\n",
       "  <tbody>\n",
       "    <tr>\n",
       "      <th>100112</th>\n",
       "      <td>Jim Collins</td>\n",
       "      <td>Wifo</td>\n",
       "      <td>4</td>\n",
       "      <td>21</td>\n",
       "    </tr>\n",
       "    <tr>\n",
       "      <th>120095</th>\n",
       "      <td>Martin Schrader</td>\n",
       "      <td>Wifo</td>\n",
       "      <td>7</td>\n",
       "      <td>23</td>\n",
       "    </tr>\n",
       "    <tr>\n",
       "      <th>180331</th>\n",
       "      <td>Achim Zahn</td>\n",
       "      <td>OMM</td>\n",
       "      <td>1</td>\n",
       "      <td>19</td>\n",
       "    </tr>\n",
       "    <tr>\n",
       "      <th>190287</th>\n",
       "      <td>Klaus Mayer</td>\n",
       "      <td>Wifo</td>\n",
       "      <td>2</td>\n",
       "      <td>20</td>\n",
       "    </tr>\n",
       "  </tbody>\n",
       "</table>\n",
       "</div>"
      ],
      "text/plain": [
       "                   Name   FoS  Semesters  Age\n",
       "ID                                           \n",
       "100112      Jim Collins  Wifo          4   21\n",
       "120095  Martin Schrader  Wifo          7   23\n",
       "180331       Achim Zahn   OMM          1   19\n",
       "190287      Klaus Mayer  Wifo          2   20"
      ]
     },
     "execution_count": 6,
     "metadata": {},
     "output_type": "execute_result"
    }
   ],
   "source": [
    "dict_obj = {'Name': 'Klaus Mayer', 'FoS': 'Wifo', 'Semesters': 2, 'Age': 20}\n",
    "\n",
    "series = pd.Series(dict_obj, name=190287)\n",
    "\n",
    "# In the newest Version the 'append' command have been changed to '_append'\n",
    "big_df = big_df._append(series)\n",
    "big_df"
   ]
  },
  {
   "cell_type": "markdown",
   "metadata": {},
   "source": [
    "Append data frame by dictionary\n",
    "\n",
    "1. Transform dictionary to data frame \"df_dict\" using method from_dict\n",
    "2. Add index to df_dict (\"ID\"-values of the students)\n",
    "3. Append original data frame by df_dict"
   ]
  },
  {
   "cell_type": "code",
   "execution_count": 7,
   "metadata": {},
   "outputs": [
    {
     "data": {
      "text/html": [
       "<div>\n",
       "<style scoped>\n",
       "    .dataframe tbody tr th:only-of-type {\n",
       "        vertical-align: middle;\n",
       "    }\n",
       "\n",
       "    .dataframe tbody tr th {\n",
       "        vertical-align: top;\n",
       "    }\n",
       "\n",
       "    .dataframe thead th {\n",
       "        text-align: right;\n",
       "    }\n",
       "</style>\n",
       "<table border=\"1\" class=\"dataframe\">\n",
       "  <thead>\n",
       "    <tr style=\"text-align: right;\">\n",
       "      <th></th>\n",
       "      <th>Name</th>\n",
       "      <th>FoS</th>\n",
       "      <th>Semesters</th>\n",
       "      <th>Age</th>\n",
       "    </tr>\n",
       "  </thead>\n",
       "  <tbody>\n",
       "    <tr>\n",
       "      <th>100112</th>\n",
       "      <td>Jim Collins</td>\n",
       "      <td>Wifo</td>\n",
       "      <td>4</td>\n",
       "      <td>21</td>\n",
       "    </tr>\n",
       "    <tr>\n",
       "      <th>120095</th>\n",
       "      <td>Martin Schrader</td>\n",
       "      <td>Wifo</td>\n",
       "      <td>7</td>\n",
       "      <td>23</td>\n",
       "    </tr>\n",
       "    <tr>\n",
       "      <th>180331</th>\n",
       "      <td>Achim Zahn</td>\n",
       "      <td>OMM</td>\n",
       "      <td>1</td>\n",
       "      <td>19</td>\n",
       "    </tr>\n",
       "    <tr>\n",
       "      <th>190287</th>\n",
       "      <td>Klaus Mayer</td>\n",
       "      <td>Wifo</td>\n",
       "      <td>2</td>\n",
       "      <td>20</td>\n",
       "    </tr>\n",
       "    <tr>\n",
       "      <th>123456</th>\n",
       "      <td>John Doe</td>\n",
       "      <td>IW</td>\n",
       "      <td>3</td>\n",
       "      <td>23</td>\n",
       "    </tr>\n",
       "    <tr>\n",
       "      <th>987654</th>\n",
       "      <td>Henry Miller</td>\n",
       "      <td>OMM</td>\n",
       "      <td>4</td>\n",
       "      <td>24</td>\n",
       "    </tr>\n",
       "  </tbody>\n",
       "</table>\n",
       "</div>"
      ],
      "text/plain": [
       "                   Name   FoS  Semesters  Age\n",
       "100112      Jim Collins  Wifo          4   21\n",
       "120095  Martin Schrader  Wifo          7   23\n",
       "180331       Achim Zahn   OMM          1   19\n",
       "190287      Klaus Mayer  Wifo          2   20\n",
       "123456         John Doe    IW          3   23\n",
       "987654     Henry Miller   OMM          4   24"
      ]
     },
     "execution_count": 7,
     "metadata": {},
     "output_type": "execute_result"
    }
   ],
   "source": [
    "data = {'Name': ['John Doe', 'Henry Miller'], 'FoS': ['IW', 'OMM'],'Semesters': [3, 4], 'Age': [23, 24]}\n",
    "\n",
    "#Transform dictionary to data frame \"df_dict\" using method from_dict\n",
    "df_dict = pd.DataFrame.from_dict(data)\n",
    "\n",
    "#Add index to df_dict (\"ID\"-values of the students)\n",
    "df_dict.index=[123456, 987654]\n",
    "\n",
    "#Append original data frame by df_dict\n",
    "end_df = big_df._append(df_dict)\n",
    "end_df"
   ]
  }
 ],
 "metadata": {
  "kernelspec": {
   "display_name": "Python 3",
   "language": "python",
   "name": "python3"
  },
  "language_info": {
   "codemirror_mode": {
    "name": "ipython",
    "version": 3
   },
   "file_extension": ".py",
   "mimetype": "text/x-python",
   "name": "python",
   "nbconvert_exporter": "python",
   "pygments_lexer": "ipython3",
   "version": "3.11.4"
  }
 },
 "nbformat": 4,
 "nbformat_minor": 2
}
