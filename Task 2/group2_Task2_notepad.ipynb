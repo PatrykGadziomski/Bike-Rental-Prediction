{
 "cells": [
  {
   "cell_type": "markdown",
   "metadata": {},
   "source": [
    "# Task 2: Model Baseline and Data preparation\n",
    "\n",
    "**Course:** Introduction to Data Science\n",
    "**Lecturer:** Prof. Dr. Hendrik Meth\n",
    "\n",
    "**Group 2:**\n",
    "- Linus Breitenberger\n",
    "- Tristan Ruhm\n",
    "- Prarichut Poachanuan\n",
    "- Anushka Irphale\n",
    "- Patryk Gadziosmki"
   ]
  },
  {
   "cell_type": "markdown",
   "metadata": {},
   "source": [
    "<div style=\"width:100%;height:30px;background-color:#E31134\"></div>"
   ]
  },
  {
   "cell_type": "markdown",
   "metadata": {},
   "source": [
    "## 0. Importing Requirements"
   ]
  },
  {
   "cell_type": "code",
   "execution_count": null,
   "metadata": {},
   "outputs": [],
   "source": [
    "# importing libraries\n",
    "import pandas as pd\n",
    "from sklearn import linear_model\n",
    "import numpy as np\n",
    "from sklearn.impute import SimpleImputer\n",
    "from sklearn.metrics import mean_absolute_error\n",
    "import statsmodels.api as sm\n",
    "import matplotlib.pyplot as plt\n",
    "import datetime"
   ]
  },
  {
   "cell_type": "markdown",
   "metadata": {},
   "source": [
    "## 1. Baseline linear regression model"
   ]
  },
  {
   "cell_type": "code",
   "execution_count": null,
   "metadata": {},
   "outputs": [],
   "source": [
    "# Loading the train and test data\n",
    "train_df = pd.read_csv('../data/BikeRentalDaily_train.csv', delimiter=';')\n",
    "test_df = pd.read_csv('../data/BikeRentalDaily_test.csv', delimiter=';')"
   ]
  },
  {
   "cell_type": "markdown",
   "metadata": {},
   "source": [
    "### 1.1. Minimal Preprocessing"
   ]
  },
  {
   "cell_type": "code",
   "execution_count": null,
   "metadata": {},
   "outputs": [],
   "source": [
    "# removing the 'dteday'  and 'instant' feature\n",
    "train_df = train_df.drop('dteday', axis=1) #.drop('instant', axis=1)\n",
    "test_df = test_df.drop('dteday', axis=1) #.drop('instant', axis=1)"
   ]
  },
  {
   "cell_type": "code",
   "execution_count": null,
   "metadata": {},
   "outputs": [],
   "source": [
    "# removing the 'dteday'  and 'instant' feature\n",
    "train_df = train_df.drop('dteday', axis=1)\n",
    "test_df = test_df.drop('dteday', axis=1)"
   ]
  },
  {
   "cell_type": "code",
   "execution_count": null,
   "metadata": {},
   "outputs": [],
   "source": [
    "# Replacing all MissingValues with the most frequent values (don't make any sense, just for the working code)\n",
    "imp_most_freq = SimpleImputer(missing_values=np.nan, strategy='most_frequent')\n",
    "\n",
    "train_df[:] = imp_most_freq.fit_transform(train_df)\n",
    "test_df[:] = imp_most_freq.fit_transform(test_df)"
   ]
  },
  {
   "cell_type": "markdown",
   "metadata": {},
   "source": [
    "### 1.2. Features/Label Split"
   ]
  },
  {
   "cell_type": "code",
   "execution_count": null,
   "metadata": {},
   "outputs": [],
   "source": [
    "# Splitting the train data into features and labels\n",
    "train_features = train_df.iloc[:, :13]\n",
    "train_labels = train_df.iloc[:, -1:]\n",
    "\n",
    "# Splitting the test data into features and labels\n",
    "test_features = test_df.iloc[:, :13]\n",
    "test_labels = test_df.iloc[:, -1:]"
   ]
  }
 ],
 "metadata": {
  "kernelspec": {
   "display_name": "Python 3",
   "language": "python",
   "name": "python3"
  },
  "language_info": {
   "codemirror_mode": {
    "name": "ipython",
    "version": 3
   },
   "file_extension": ".py",
   "mimetype": "text/x-python",
   "name": "python",
   "nbconvert_exporter": "python",
   "pygments_lexer": "ipython3",
   "version": "3.11.4"
  }
 },
 "nbformat": 4,
 "nbformat_minor": 2
}
