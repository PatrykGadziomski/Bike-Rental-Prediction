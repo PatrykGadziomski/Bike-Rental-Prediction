{
 "cells": [
  {
   "cell_type": "code",
   "execution_count": 2,
   "metadata": {},
   "outputs": [],
   "source": [
    "# importing libraries\n",
    "import pandas as pd\n",
    "from sklearn import linear_model\n",
    "import numpy as np\n",
    "from sklearn.impute import SimpleImputer\n",
    "from sklearn.metrics import mean_absolute_error\n",
    "import statsmodels.api as sm\n",
    "import matplotlib.pyplot as plt"
   ]
  },
  {
   "cell_type": "code",
   "execution_count": 3,
   "metadata": {},
   "outputs": [],
   "source": [
    "# Loading the train and test data\n",
    "train_df = pd.read_csv('../data/BikeRentalDaily_train.csv', delimiter=';')\n",
    "test_df = pd.read_csv('../data/BikeRentalDaily_test.csv', delimiter=';')"
   ]
  },
  {
   "cell_type": "code",
   "execution_count": 4,
   "metadata": {},
   "outputs": [],
   "source": [
    "# Minimal Preprocessing steps\n",
    "# removing the 'dteday'  and 'instant' feature\n",
    "train_df = train_df.drop('dteday', axis=1) #.drop('instant', axis=1)\n",
    "test_df = test_df.drop('dteday', axis=1) #.drop('instant', axis=1)"
   ]
  },
  {
   "cell_type": "code",
   "execution_count": 5,
   "metadata": {},
   "outputs": [],
   "source": [
    "# Replacing all MissingValues with the most frequent values\n",
    "imp_most_freq = SimpleImputer(missing_values=np.nan, strategy='most_frequent')\n",
    "\n",
    "train_df[:] = imp_most_freq.fit_transform(train_df)\n",
    "test_df[:] = imp_most_freq.fit_transform(test_df)"
   ]
  },
  {
   "cell_type": "code",
   "execution_count": 6,
   "metadata": {},
   "outputs": [],
   "source": [
    "# Splitting the train data into features and labels\n",
    "train_features = train_df.iloc[:, :13]\n",
    "train_labels = train_df.iloc[:, -1:]\n",
    "\n",
    "# Splitting the test data into features and labels\n",
    "test_features = test_df.iloc[:, :13]\n",
    "test_labels = test_df.iloc[:, -1:]"
   ]
  },
  {
   "cell_type": "code",
   "execution_count": 7,
   "metadata": {},
   "outputs": [
    {
     "data": {
      "text/html": [
       "<div>\n",
       "<style scoped>\n",
       "    .dataframe tbody tr th:only-of-type {\n",
       "        vertical-align: middle;\n",
       "    }\n",
       "\n",
       "    .dataframe tbody tr th {\n",
       "        vertical-align: top;\n",
       "    }\n",
       "\n",
       "    .dataframe thead th {\n",
       "        text-align: right;\n",
       "    }\n",
       "</style>\n",
       "<table border=\"1\" class=\"dataframe\">\n",
       "  <thead>\n",
       "    <tr style=\"text-align: right;\">\n",
       "      <th></th>\n",
       "      <th>cnt</th>\n",
       "    </tr>\n",
       "  </thead>\n",
       "  <tbody>\n",
       "    <tr>\n",
       "      <th>0</th>\n",
       "      <td>5312</td>\n",
       "    </tr>\n",
       "    <tr>\n",
       "      <th>1</th>\n",
       "      <td>5445</td>\n",
       "    </tr>\n",
       "    <tr>\n",
       "      <th>2</th>\n",
       "      <td>2236</td>\n",
       "    </tr>\n",
       "    <tr>\n",
       "      <th>3</th>\n",
       "      <td>6370</td>\n",
       "    </tr>\n",
       "    <tr>\n",
       "      <th>4</th>\n",
       "      <td>7836</td>\n",
       "    </tr>\n",
       "    <tr>\n",
       "      <th>...</th>\n",
       "      <td>...</td>\n",
       "    </tr>\n",
       "    <tr>\n",
       "      <th>595</th>\n",
       "      <td>3117</td>\n",
       "    </tr>\n",
       "    <tr>\n",
       "      <th>596</th>\n",
       "      <td>2703</td>\n",
       "    </tr>\n",
       "    <tr>\n",
       "      <th>597</th>\n",
       "      <td>4097</td>\n",
       "    </tr>\n",
       "    <tr>\n",
       "      <th>598</th>\n",
       "      <td>3894</td>\n",
       "    </tr>\n",
       "    <tr>\n",
       "      <th>599</th>\n",
       "      <td>7030</td>\n",
       "    </tr>\n",
       "  </tbody>\n",
       "</table>\n",
       "<p>600 rows × 1 columns</p>\n",
       "</div>"
      ],
      "text/plain": [
       "      cnt\n",
       "0    5312\n",
       "1    5445\n",
       "2    2236\n",
       "3    6370\n",
       "4    7836\n",
       "..    ...\n",
       "595  3117\n",
       "596  2703\n",
       "597  4097\n",
       "598  3894\n",
       "599  7030\n",
       "\n",
       "[600 rows x 1 columns]"
      ]
     },
     "execution_count": 7,
     "metadata": {},
     "output_type": "execute_result"
    }
   ],
   "source": [
    "#train_features\n",
    "train_labels\n",
    "\n",
    "#test_features\n",
    "#test_labels"
   ]
  },
  {
   "cell_type": "code",
   "execution_count": 8,
   "metadata": {},
   "outputs": [
    {
     "data": {
      "text/plain": [
       "array([[ 3894],\n",
       "       [ 5936],\n",
       "       [ 5629],\n",
       "       [ 3310],\n",
       "       [ 4748],\n",
       "       [ 1450],\n",
       "       [ 7040],\n",
       "       [ 6778],\n",
       "       [ 5119],\n",
       "       [ 4332],\n",
       "       [ 5115],\n",
       "       [ 6598],\n",
       "       [ 2496],\n",
       "       [ 5464],\n",
       "       [ 6118],\n",
       "       [ 7580],\n",
       "       [ 6883],\n",
       "       [ 2432],\n",
       "       [ 5375],\n",
       "       [ 6227],\n",
       "       [ 7852],\n",
       "       [ 1115],\n",
       "       [ 4687],\n",
       "       [ 2056],\n",
       "       [ 4484],\n",
       "       [ 5302],\n",
       "       [ 4220],\n",
       "       [ 4911],\n",
       "       [ 6734],\n",
       "       [ 3873],\n",
       "       [ 6234],\n",
       "       [ 7105],\n",
       "       [ 7538],\n",
       "       [ 4507],\n",
       "       [ 1421],\n",
       "       [ 4367],\n",
       "       [ 1817],\n",
       "       [ 2134],\n",
       "       [ 2431],\n",
       "       [ 5202],\n",
       "       [ 5538],\n",
       "       [ 1550],\n",
       "       [ 2485],\n",
       "       [ 4342],\n",
       "       [ 4036],\n",
       "       [  683],\n",
       "       [ 3644],\n",
       "       [ 7534],\n",
       "       [ 4541],\n",
       "       [ 5499],\n",
       "       [ 7363],\n",
       "       [ 4401],\n",
       "       [ 7592],\n",
       "       [ 3387],\n",
       "       [ 3523],\n",
       "       [ 5102],\n",
       "       [ 5698],\n",
       "       [ 3577],\n",
       "       [ 5668],\n",
       "       [ 3846],\n",
       "       [ 6772],\n",
       "       [ 2294],\n",
       "       [ 1263],\n",
       "       [ 2416],\n",
       "       [ 3422],\n",
       "       [ 6230],\n",
       "       [ 4996],\n",
       "       [ 5557],\n",
       "       [ 5515],\n",
       "       [ 4400],\n",
       "       [ 3389],\n",
       "       [ 5312],\n",
       "       [ 3570],\n",
       "       [ 1204],\n",
       "       [ 7444],\n",
       "       [ 3910],\n",
       "       [ 1712],\n",
       "       [ 2077],\n",
       "       [ 5501],\n",
       "       [ 3709],\n",
       "       [ 3649],\n",
       "       [ 6569],\n",
       "       [ 4390],\n",
       "       [ 4105],\n",
       "       [ 4326],\n",
       "       [ 4672],\n",
       "       [ 7509],\n",
       "       [ 6784],\n",
       "       [ 4570],\n",
       "       [ 5729],\n",
       "       [ 3115],\n",
       "       [ 1416],\n",
       "       [32472],\n",
       "       [ 7410],\n",
       "       [ 6233],\n",
       "       [ 1796],\n",
       "       [ 6241],\n",
       "       [ 1536],\n",
       "       [ 5424],\n",
       "       [ 7591],\n",
       "       [ 7261],\n",
       "       [ 5611],\n",
       "       [ 3956],\n",
       "       [ 5117],\n",
       "       [ 2169],\n",
       "       [ 6606],\n",
       "       [ 6917],\n",
       "       [ 3351],\n",
       "       [ 3510],\n",
       "       [ 7282],\n",
       "       [ 3727],\n",
       "       [  623],\n",
       "       [ 7350],\n",
       "       [ 7582],\n",
       "       [ 1693],\n",
       "       [ 5918],\n",
       "       [ 1510],\n",
       "       [ 3126],\n",
       "       [ 5805],\n",
       "       [ 5740],\n",
       "       [  431],\n",
       "       [ 7446],\n",
       "       [ 3228],\n",
       "       [ 1685],\n",
       "       [ 1708],\n",
       "       [ 6639],\n",
       "       [ 3129],\n",
       "       [ 4990],\n",
       "       [ 5687],\n",
       "       [ 3907],\n",
       "       [ 5225],\n",
       "       [ 1977]], dtype=int64)"
      ]
     },
     "execution_count": 8,
     "metadata": {},
     "output_type": "execute_result"
    }
   ],
   "source": [
    "test_labels.to_numpy()"
   ]
  },
  {
   "cell_type": "code",
   "execution_count": 9,
   "metadata": {},
   "outputs": [
    {
     "name": "stdout",
     "output_type": "stream",
     "text": [
      "[[ 1.24294882e+00  3.15719720e+02  1.99436579e+03 -3.54038301e+00\n",
      "  -1.04678985e+03  1.82091578e+02 -4.71749309e+02 -7.48293456e+02\n",
      "  -1.55008874e+01  7.94676335e+03 -7.04580755e+00 -6.30206852e+02\n",
      "   9.13325512e-01]]\n"
     ]
    }
   ],
   "source": [
    "# Model building\n",
    "# We use linear regression, which is a supervised learning technique \n",
    "# with usage of labeled training data.\n",
    "reg_model_before_pp = linear_model.LinearRegression()\n",
    "\n",
    "reg_model_before_pp.fit(train_features, train_labels)\n",
    "\n",
    "print(reg_model_before_pp.coef_)"
   ]
  },
  {
   "cell_type": "code",
   "execution_count": 10,
   "metadata": {},
   "outputs": [
    {
     "data": {
      "text/plain": [
       "array([[3406.9932736 ],\n",
       "       [5089.67118593],\n",
       "       [6893.58964078],\n",
       "       [2381.29972783],\n",
       "       [3495.756797  ],\n",
       "       [ 696.39473747],\n",
       "       [7629.06916376],\n",
       "       [5843.83408871],\n",
       "       [6781.57592485],\n",
       "       [5900.84318077],\n",
       "       [5367.8802674 ],\n",
       "       [7521.66103429],\n",
       "       [3392.46884844],\n",
       "       [8149.93997078],\n",
       "       [6684.35830847],\n",
       "       [7905.54699563],\n",
       "       [7412.91704975],\n",
       "       [2419.05241288],\n",
       "       [5465.43898259],\n",
       "       [7696.61069886],\n",
       "       [7510.5236049 ],\n",
       "       [4989.11532123],\n",
       "       [4176.96843099],\n",
       "       [1240.87449579],\n",
       "       [6273.7230086 ],\n",
       "       [5420.55149342],\n",
       "       [5942.6946315 ],\n",
       "       [4730.3594732 ],\n",
       "       [7547.89727355],\n",
       "       [5307.62372381],\n",
       "       [6138.19940021],\n",
       "       [7362.78098889],\n",
       "       [7256.54392756],\n",
       "       [5573.02496653],\n",
       "       [1283.71452962],\n",
       "       [5776.50021622],\n",
       "       [2670.1314791 ],\n",
       "       [1354.34383982],\n",
       "       [2787.95457997],\n",
       "       [5331.39070204],\n",
       "       [5319.01750342],\n",
       "       [1312.92214   ],\n",
       "       [3845.41692724],\n",
       "       [5758.65625988],\n",
       "       [3064.14542642],\n",
       "       [ 417.50751082],\n",
       "       [4001.13396208],\n",
       "       [7607.88116812],\n",
       "       [6085.11076629],\n",
       "       [5033.33101601],\n",
       "       [7386.59895657],\n",
       "       [5583.14178395],\n",
       "       [8405.85440424],\n",
       "       [7174.66731066],\n",
       "       [2313.54021877],\n",
       "       [4781.99906373],\n",
       "       [5849.09394172],\n",
       "       [2433.60073023],\n",
       "       [6340.24783166],\n",
       "       [6841.25086392],\n",
       "       [5715.26104484],\n",
       "       [4665.00244   ],\n",
       "       [ 349.95289919],\n",
       "       [2674.6814298 ],\n",
       "       [3375.4932653 ],\n",
       "       [5579.71957619],\n",
       "       [4512.97096488],\n",
       "       [6177.04784938],\n",
       "       [5831.53575009],\n",
       "       [4419.90354459],\n",
       "       [4307.86006524],\n",
       "       [4833.54575303],\n",
       "       [2786.01994726],\n",
       "       [1196.69934752],\n",
       "       [6523.88752247],\n",
       "       [6843.93151443],\n",
       "       [1721.91247812],\n",
       "       [2632.07895095],\n",
       "       [4871.41037271],\n",
       "       [2351.85900698],\n",
       "       [3241.97825563],\n",
       "       [6447.44113096],\n",
       "       [6104.52776787],\n",
       "       [3064.00513996],\n",
       "       [5095.6853487 ],\n",
       "       [8573.27768341],\n",
       "       [6639.44619453],\n",
       "       [7765.43261775],\n",
       "       [4551.82108869],\n",
       "       [6407.47040006],\n",
       "       [3546.4055051 ],\n",
       "       [ 567.98552327],\n",
       "       [8512.45906862],\n",
       "       [6379.49335615],\n",
       "       [6107.47418592],\n",
       "       [4297.30275487],\n",
       "       [8611.4139927 ],\n",
       "       [1357.16641434],\n",
       "       [6949.04050155],\n",
       "       [7130.63736121],\n",
       "       [8051.66708168],\n",
       "       [5750.97004308],\n",
       "       [3874.32132819],\n",
       "       [3706.59897021],\n",
       "       [3150.36840066],\n",
       "       [6522.00733828],\n",
       "       [7333.62800602],\n",
       "       [2442.33918981],\n",
       "       [5488.79735983],\n",
       "       [6921.84213645],\n",
       "       [3588.86611712],\n",
       "       [2794.80943398],\n",
       "       [8279.44488877],\n",
       "       [7318.3247926 ],\n",
       "       [1001.925615  ],\n",
       "       [5363.90302972],\n",
       "       [1134.71916107],\n",
       "       [2802.27015174],\n",
       "       [4273.11003147],\n",
       "       [5600.90138807],\n",
       "       [1609.72407134],\n",
       "       [7830.30438481],\n",
       "       [5273.88316598],\n",
       "       [ 476.35466192],\n",
       "       [ 866.30400907],\n",
       "       [6939.90160377],\n",
       "       [3375.88287532],\n",
       "       [5804.94524098],\n",
       "       [9167.6333945 ],\n",
       "       [3205.69615864],\n",
       "       [5145.04314099],\n",
       "       [2181.8590177 ]])"
      ]
     },
     "execution_count": 10,
     "metadata": {},
     "output_type": "execute_result"
    }
   ],
   "source": [
    "# Predict all test examples\n",
    "ypred = reg_model_before_pp.predict(test_features)\n",
    "ypred"
   ]
  },
  {
   "cell_type": "code",
   "execution_count": 11,
   "metadata": {},
   "outputs": [
    {
     "data": {
      "text/plain": [
       "[<matplotlib.lines.Line2D at 0x18721e814d0>]"
      ]
     },
     "execution_count": 11,
     "metadata": {},
     "output_type": "execute_result"
    },
    {
     "data": {
      "image/png": "[encoded data removed]",
      "text/plain": [
       "<Figure size 1400x600 with 1 Axes>"
      ]
     },
     "metadata": {},
     "output_type": "display_data"
    }
   ],
   "source": [
    "plt.figure(figsize=(14,6))\n",
    "plt.plot(test_labels)\n",
    "plt.plot(ypred)"
   ]
  },
  {
   "cell_type": "code",
   "execution_count": 12,
   "metadata": {},
   "outputs": [
    {
     "name": "stdout",
     "output_type": "stream",
     "text": [
      "Predict label for following example:\n",
      "instant       299.000000\n",
      "season          4.000000\n",
      "yr              0.000000\n",
      "mnth           10.000000\n",
      "holiday         0.000000\n",
      "weekday         3.000000\n",
      "workingday      1.000000\n",
      "weathersit      2.000000\n",
      "temp           19.366700\n",
      "atemp           0.472846\n",
      "hum           108.062550\n",
      "windspeed       0.148642\n",
      "leaflets      605.000000\n",
      "Name: 0, dtype: float64\n",
      "\n",
      "Predicted label:  [3406.9932736]\n",
      "Actual label: cnt    3894\n",
      "Name: 0, dtype: int64\n",
      "Deviation predicted from actual value:  cnt   -487.006726\n",
      "Name: 0, dtype: float64\n"
     ]
    },
    {
     "name": "stderr",
     "output_type": "stream",
     "text": [
      "c:\\Users\\Akira\\AppData\\Local\\Programs\\Python\\Python311\\Lib\\site-packages\\sklearn\\base.py:439: UserWarning: X does not have valid feature names, but LinearRegression was fitted with feature names\n",
      "  warnings.warn(\n"
     ]
    }
   ],
   "source": [
    "print(f\"Predict label for following example:\\n{test_features.iloc[0,:]}\")\n",
    "\n",
    "#Predict a single value\n",
    "predicted_value = reg_model_before_pp.predict([test_features.iloc[0,:]])[0]\n",
    "\n",
    "print(\"\\nPredicted label: \",predicted_value)\n",
    "print(\"Actual label:\", test_labels.iloc[0])\n",
    "print(\"Deviation predicted from actual value: \",predicted_value - test_labels.iloc[0])"
   ]
  },
  {
   "cell_type": "code",
   "execution_count": 13,
   "metadata": {},
   "outputs": [
    {
     "name": "stdout",
     "output_type": "stream",
     "text": [
      "           cnt\n",
      "0  -48700000.0\n",
      "1  -84600000.0\n",
      "2  126500000.0\n",
      "3  -92900000.0\n",
      "4 -125200000.0\n",
      "5  -75400000.0\n",
      "6   58900000.0\n",
      "7  -93400000.0\n",
      "8  166300000.0\n",
      "9  156900000.0 2\n"
     ]
    }
   ],
   "source": [
    "print(round(ypred[:10] - test_labels.iloc[0:10])*100000, 2)"
   ]
  },
  {
   "cell_type": "code",
   "execution_count": 14,
   "metadata": {},
   "outputs": [
    {
     "name": "stdout",
     "output_type": "stream",
     "text": [
      "MAE: 1054.862\n",
      "R^2 value of the model:  0.4001965370904248\n"
     ]
    }
   ],
   "source": [
    "# Evaluate model\n",
    "\n",
    "#Return Mean Absolute Error -> Loss: The beste Value is 0.0\n",
    "mae = mean_absolute_error(test_labels, ypred)\n",
    "print('MAE: %.3f' % mae)\n",
    "\n",
    "#Return the coefficient of determination R^2 of the prediction -> Score: best possible value is 1.0\n",
    "print(\"R^2 value of the model: \",reg_model_before_pp.score(test_features, test_labels))"
   ]
  },
  {
   "cell_type": "code",
   "execution_count": null,
   "metadata": {},
   "outputs": [],
   "source": []
  }
 ],
 "metadata": {
  "kernelspec": {
   "display_name": "Python 3",
   "language": "python",
   "name": "python3"
  },
  "language_info": {
   "codemirror_mode": {
    "name": "ipython",
    "version": 3
   },
   "file_extension": ".py",
   "mimetype": "text/x-python",
   "name": "python",
   "nbconvert_exporter": "python",
   "pygments_lexer": "ipython3",
   "version": "3.11.4"
  }
 },
 "nbformat": 4,
 "nbformat_minor": 2
}
